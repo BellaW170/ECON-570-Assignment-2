{
 "cells": [
  {
   "cell_type": "code",
   "execution_count": 37,
   "id": "4ae95d7d",
   "metadata": {},
   "outputs": [],
   "source": [
    "import pandas as pd\n",
    "import numpy as np\n",
    "import random\n",
    "import statsmodels.api as sm\n",
    "from sklearn.model_selection import cross_val_score\n",
    "from sklearn.model_selection import RepeatedKFold\n",
    "from sklearn.linear_model import Lasso\n",
    "from sklearn.feature_selection import SelectFromModel\n",
    "import matplotlib.pyplot as plt\n",
    "from tqdm import tqdm\n",
    "import warnings\n",
    "warnings.filterwarnings('ignore')\n",
    "\n",
    "import pandas as pd\n",
    "import numpy as np\n",
    "import networkx as nx\n",
    "from matplotlib import style\n",
    "import seaborn as sns\n",
    "from matplotlib import pyplot as plt\n",
    "style.use(\"fivethirtyeight\")"
   ]
  },
  {
   "cell_type": "code",
   "execution_count": 38,
   "id": "ed3ad97b",
   "metadata": {},
   "outputs": [],
   "source": [
    "def fn_variance(data, ddof=0):\n",
    "    n = len(data)\n",
    "    mean = sum(data) / n\n",
    "    return sum((x - mean) ** 2 for x in data) / (n - ddof)\n",
    "# Note this is equivalent to np.var(Yt,ddof)\n",
    "# 计算data的方差的函数"
   ]
  },
  {
   "cell_type": "code",
   "execution_count": 39,
   "id": "55a0696c",
   "metadata": {},
   "outputs": [],
   "source": [
    "def fn_generate_cov(dim):\n",
    "    acc  = []\n",
    "    for i in range(dim):\n",
    "        row = np.ones((1,dim)) * corr\n",
    "        row[0][i] = 1\n",
    "        acc.append(row)\n",
    "    return np.concatenate(acc,axis=0)\n",
    "\n",
    "def fn_generate_multnorm(nobs,corr,nvar):\n",
    "\n",
    "    mu = np.zeros(nvar)\n",
    "    std = (np.abs(np.random.normal(loc = 1, scale = .5,size = (nvar,1))))**(1/2)\n",
    "    # generate random normal distribution\n",
    "    acc = []\n",
    "    for i in range(nvar):\n",
    "        acc.append(np.reshape(np.random.normal(mu[i],std[i],nobs),(nobs,-1)))\n",
    "    \n",
    "    normvars = np.concatenate(acc,axis=1)\n",
    "\n",
    "    cov = fn_generate_cov(nvar)\n",
    "    C = np.linalg.cholesky(cov)\n",
    "\n",
    "    Y = np.transpose(np.dot(C,np.transpose(normvars)))\n",
    "\n",
    "#     return (Y,np.round(np.corrcoef(Y,rowvar=False),2))\n",
    "    return Y\n",
    "\n",
    "def fn_randomize_treatment(N,p=0.5):\n",
    "    treated = random.sample(range(N), round(N*p))\n",
    "    return np.array([(1 if i in treated else 0) for i in range(N)]).reshape([N,1])"
   ]
  },
  {
   "cell_type": "code",
   "execution_count": 49,
   "id": "098eb0ae",
   "metadata": {},
   "outputs": [],
   "source": [
    "def fn_generate_data(tau,N,p,p0,corr,conf = True,flagX = False):\n",
    "    \"\"\"\n",
    "    p0(int): number of covariates with nonzero coefficients\n",
    "    \"\"\"\n",
    "    nvar = p+2 # 1 confounder and variable for randomizing treatment\n",
    "    corr = 0.5 # correlation for multivariate normal\n",
    "\n",
    "    if conf==False:\n",
    "        conf_mult = 0 # 把conf_mult设置为0也即没有confounder\n",
    "    else:\n",
    "        conf_mult = 1 # 则conf_mult为1则包含confounder\n",
    "        \n",
    "    allX = fn_generate_multnorm(N,corr,nvar)\n",
    "    W0 = allX[:,0].reshape([N,1]) # variable for RDD assignment\n",
    "    C = allX[:,1].reshape([N,1]) # confounder\n",
    "    X = allX[:,2:] # observed covariates\n",
    "    \n",
    "    T = fn_randomize_treatment(N) # choose treated units\n",
    "    err = np.random.normal(0,1,[N,1])\n",
    "    beta0 = np.random.normal(5,5,[p,1])\n",
    "    \n",
    "    beta0[p0:p] = 0 # sparse model\n",
    "    Yab = tau*T+X@beta0+conf_mult*0.6*C+err  #计算Y的函数，包含了covariates\n",
    "    if flagX==False:\n",
    "        return (Yab,T)\n",
    "    else:\n",
    "        return (Yab,T,X)\n",
    "    \n",
    "    # regression discontinuity\n",
    "#     W = W0 + 0.5*C+3*X[:,80].reshape([N,1])-6*X[:,81].reshape([N,1])\n",
    "#     treated = 1*(W>0)\n",
    "#     Yrdd = 1.2* treated - 4*W + X@beta0 +0.6*C+err\n",
    "\n",
    "def fn_tauhat_means(Yt,Yc):\n",
    "    nt = len(Yt)\n",
    "    nc = len(Yc)\n",
    "    tauhat = np.mean(Yt)-np.mean(Yc)\n",
    "    se_tauhat = (np.var(Yt,ddof=1)/nt+np.var(Yc,ddof=1)/nc)**(1/2)\n",
    "    return (tauhat,se_tauhat)\n",
    "\n",
    "def fn_bias_rmse_size(theta0,thetahat,se_thetahat,cval = 1.96):\n",
    "    \"\"\"\n",
    "    theta0 - true parameter value\n",
    "    thetatahat - estimated parameter value\n",
    "    se_thetahat - estiamted se of thetahat\n",
    "    \"\"\"\n",
    "    b = thetahat - theta0\n",
    "    bias = np.mean(b)\n",
    "    rmse = np.sqrt(np.mean(b**2))\n",
    "    tval = b/se_thetahat # paramhat/se_paramhat H0: theta = 0\n",
    "    size = np.mean(1*(np.abs(tval)>cval))\n",
    "    # note size calculated at true parameter value\n",
    "    return (bias,rmse,size)\n",
    "\n",
    "def fn_run_experiments(tau,Nrange,p,p0,corr,conf,flagX=False):\n",
    "      \n",
    "    n_values = []\n",
    "    tauhats = []\n",
    "    sehats = []\n",
    "    lb = []\n",
    "    ub = []\n",
    "    for N in tqdm(Nrange):\n",
    "        n_values = n_values + [N]\n",
    "        if flagX==False:\n",
    "            # 不加入covariates\n",
    "            Yexp,T = fn_generate_data(tau,N,p,p0,corr,conf,flagX)\n",
    "            Yt = Yexp[np.where(T==1)[0],:]\n",
    "            Yc = Yexp[np.where(T==0)[0],:]\n",
    "            tauhat,se_tauhat = fn_tauhat_means(Yt,Yc)            \n",
    "        elif flagX==1:\n",
    "            # use the right covariates in regression\n",
    "            Yexp,T,X = fn_generate_data(tau,N,p,p0,corr,conf,flagX)\n",
    "            Xobs = X[:,:p0]\n",
    "            covars = np.concatenate([T,Xobs],axis = 1)\n",
    "            mod = sm.OLS(Yexp,covars)\n",
    "            res = mod.fit()\n",
    "            tauhat = res.params[0]\n",
    "            se_tauhat = res.HC1_se[0]\n",
    "        elif flagX==2:\n",
    "            # use some of the right covariates and some \"wrong\" ones\n",
    "            Yexp,T,X = fn_generate_data(tau,N,p,p0,corr,conf,flagX)\n",
    "            Xobs1 = X[:,:np.int(p0/2)]\n",
    "            Xobs2 = X[:,-np.int(p0/2):]\n",
    "            covars = np.concatenate([T,Xobs1,Xobs2],axis = 1)\n",
    "            mod = sm.OLS(Yexp,covars)\n",
    "            res = mod.fit()\n",
    "            tauhat = res.params[0]\n",
    "            se_tauhat = res.HC1_se[0]\n",
    "            \n",
    "        tauhats = tauhats + [tauhat]\n",
    "        sehats = sehats + [se_tauhat]    \n",
    "        lb = lb + [tauhat-1.96*se_tauhat]\n",
    "        ub = ub + [tauhat+1.96*se_tauhat]\n",
    "        \n",
    "    return (n_values,tauhats,sehats,lb,ub)"
   ]
  },
  {
   "cell_type": "markdown",
   "id": "da969ce7",
   "metadata": {},
   "source": [
    "# Q1\n",
    "\n",
    "## 1.1 Simulate DGP\n",
    "Y=𝜏∗𝑇+𝛽'∗𝑥+𝑒"
   ]
  },
  {
   "cell_type": "code",
   "execution_count": 83,
   "id": "f913b89c",
   "metadata": {},
   "outputs": [],
   "source": [
    "tau = 2\n",
    "corr = .5\n",
    "conf=False\n",
    "p =3\n",
    "p0 = 3 # number of covariates used in the DGP\n",
    "flagX = 1\n",
    "N = 1000\n",
    "Y,T,X = fn_generate_data(tau,N,p,p0,corr,conf,flagX)"
   ]
  },
  {
   "cell_type": "code",
   "execution_count": 84,
   "id": "6fc5b0d4",
   "metadata": {},
   "outputs": [
    {
     "data": {
      "text/html": [
       "<div>\n",
       "<style scoped>\n",
       "    .dataframe tbody tr th:only-of-type {\n",
       "        vertical-align: middle;\n",
       "    }\n",
       "\n",
       "    .dataframe tbody tr th {\n",
       "        vertical-align: top;\n",
       "    }\n",
       "\n",
       "    .dataframe thead th {\n",
       "        text-align: right;\n",
       "    }\n",
       "</style>\n",
       "<table border=\"1\" class=\"dataframe\">\n",
       "  <thead>\n",
       "    <tr style=\"text-align: right;\">\n",
       "      <th></th>\n",
       "      <th>Y</th>\n",
       "      <th>T</th>\n",
       "      <th>X1</th>\n",
       "      <th>X2</th>\n",
       "      <th>X3</th>\n",
       "    </tr>\n",
       "  </thead>\n",
       "  <tbody>\n",
       "    <tr>\n",
       "      <th>0</th>\n",
       "      <td>6.053106</td>\n",
       "      <td>0.0</td>\n",
       "      <td>0.548854</td>\n",
       "      <td>0.262800</td>\n",
       "      <td>0.439106</td>\n",
       "    </tr>\n",
       "    <tr>\n",
       "      <th>1</th>\n",
       "      <td>0.360699</td>\n",
       "      <td>1.0</td>\n",
       "      <td>0.322727</td>\n",
       "      <td>-0.279439</td>\n",
       "      <td>0.851466</td>\n",
       "    </tr>\n",
       "    <tr>\n",
       "      <th>2</th>\n",
       "      <td>30.048403</td>\n",
       "      <td>0.0</td>\n",
       "      <td>1.466910</td>\n",
       "      <td>2.246627</td>\n",
       "      <td>1.563913</td>\n",
       "    </tr>\n",
       "    <tr>\n",
       "      <th>3</th>\n",
       "      <td>-12.181095</td>\n",
       "      <td>0.0</td>\n",
       "      <td>0.257773</td>\n",
       "      <td>-1.251860</td>\n",
       "      <td>0.333404</td>\n",
       "    </tr>\n",
       "    <tr>\n",
       "      <th>4</th>\n",
       "      <td>4.706990</td>\n",
       "      <td>1.0</td>\n",
       "      <td>-1.135090</td>\n",
       "      <td>0.472551</td>\n",
       "      <td>-0.724442</td>\n",
       "    </tr>\n",
       "    <tr>\n",
       "      <th>...</th>\n",
       "      <td>...</td>\n",
       "      <td>...</td>\n",
       "      <td>...</td>\n",
       "      <td>...</td>\n",
       "      <td>...</td>\n",
       "    </tr>\n",
       "    <tr>\n",
       "      <th>995</th>\n",
       "      <td>0.660703</td>\n",
       "      <td>0.0</td>\n",
       "      <td>1.627225</td>\n",
       "      <td>0.507038</td>\n",
       "      <td>-1.621230</td>\n",
       "    </tr>\n",
       "    <tr>\n",
       "      <th>996</th>\n",
       "      <td>2.038299</td>\n",
       "      <td>1.0</td>\n",
       "      <td>-1.251640</td>\n",
       "      <td>0.164589</td>\n",
       "      <td>-0.462007</td>\n",
       "    </tr>\n",
       "    <tr>\n",
       "      <th>997</th>\n",
       "      <td>-28.114046</td>\n",
       "      <td>0.0</td>\n",
       "      <td>-2.986201</td>\n",
       "      <td>-2.072811</td>\n",
       "      <td>-1.216698</td>\n",
       "    </tr>\n",
       "    <tr>\n",
       "      <th>998</th>\n",
       "      <td>17.864855</td>\n",
       "      <td>1.0</td>\n",
       "      <td>0.949024</td>\n",
       "      <td>1.305229</td>\n",
       "      <td>0.462455</td>\n",
       "    </tr>\n",
       "    <tr>\n",
       "      <th>999</th>\n",
       "      <td>-12.538563</td>\n",
       "      <td>0.0</td>\n",
       "      <td>0.090565</td>\n",
       "      <td>-0.707131</td>\n",
       "      <td>-1.526264</td>\n",
       "    </tr>\n",
       "  </tbody>\n",
       "</table>\n",
       "<p>1000 rows × 5 columns</p>\n",
       "</div>"
      ],
      "text/plain": [
       "             Y    T        X1        X2        X3\n",
       "0     6.053106  0.0  0.548854  0.262800  0.439106\n",
       "1     0.360699  1.0  0.322727 -0.279439  0.851466\n",
       "2    30.048403  0.0  1.466910  2.246627  1.563913\n",
       "3   -12.181095  0.0  0.257773 -1.251860  0.333404\n",
       "4     4.706990  1.0 -1.135090  0.472551 -0.724442\n",
       "..         ...  ...       ...       ...       ...\n",
       "995   0.660703  0.0  1.627225  0.507038 -1.621230\n",
       "996   2.038299  1.0 -1.251640  0.164589 -0.462007\n",
       "997 -28.114046  0.0 -2.986201 -2.072811 -1.216698\n",
       "998  17.864855  1.0  0.949024  1.305229  0.462455\n",
       "999 -12.538563  0.0  0.090565 -0.707131 -1.526264\n",
       "\n",
       "[1000 rows x 5 columns]"
      ]
     },
     "execution_count": 84,
     "metadata": {},
     "output_type": "execute_result"
    }
   ],
   "source": [
    "data = np.concatenate([Y,T,X],axis = 1)\n",
    "data = pd.DataFrame(data)\n",
    "data.columns = ['Y', 'T', 'X1', 'X2','X3']\n",
    "data.to_csv('data1.csv')\n",
    "data"
   ]
  },
  {
   "cell_type": "markdown",
   "id": "2803f9ed",
   "metadata": {},
   "source": [
    "## 1.2 Illustrate DGP with DAG"
   ]
  },
  {
   "cell_type": "code",
   "execution_count": 56,
   "id": "7e39c8dd",
   "metadata": {},
   "outputs": [
    {
     "data": {
      "image/png": "[encoded data removed]",
      "text/plain": [
       "<Figure size 432x288 with 1 Axes>"
      ]
     },
     "metadata": {},
     "output_type": "display_data"
    }
   ],
   "source": [
    "G = nx.DiGraph()\n",
    "    \n",
    "G.add_node('s1', desc='Outcome')\n",
    "G.add_node('s2', desc='Treatment')\n",
    "G.add_node('s3', desc='Covariates')\n",
    "G.add_edge('s2','s1')\n",
    "G.add_edge('s3','s1')\n",
    "    \n",
    "pos = nx.spring_layout(G)\n",
    "nx.draw(G, pos)\n",
    "node_labels = nx.get_node_attributes(G, 'desc')\n",
    "nx.draw_networkx_labels(G, pos, labels=node_labels)\n",
    "plt.show()"
   ]
  },
  {
   "cell_type": "markdown",
   "id": "58ae5f0b",
   "metadata": {},
   "source": [
    "## 1.3 Monte Carlo experiment\n",
    "\n",
    "### 1.3.1 Do not control for any covariates"
   ]
  },
  {
   "cell_type": "code",
   "execution_count": 85,
   "id": "cca0c1e7",
   "metadata": {},
   "outputs": [
    {
     "name": "stderr",
     "output_type": "stream",
     "text": [
      "100%|██████████| 2000/2000 [00:02<00:00, 800.68it/s]\n",
      "100%|██████████| 2000/2000 [00:23<00:00, 84.62it/s] \n"
     ]
    }
   ],
   "source": [
    " # not control covariates\n",
    "estDict = {}\n",
    "R = 2000\n",
    "for N in [100,1000]:\n",
    "    tauhats = []\n",
    "    sehats = []\n",
    "    for r in tqdm(range(R)):\n",
    "        Yexp,T,X = fn_generate_data(tau,N,p,p0,corr,conf,flagX)\n",
    "        Yt = Yexp[np.where(T==1)[0],:]\n",
    "        Yc = Yexp[np.where(T==0)[0],:]\n",
    "        tauhat,se_tauhat = fn_tauhat_means(Yt,Yc)\n",
    "        tauhats = tauhats + [tauhat]\n",
    "        sehats = sehats + [se_tauhat]\n",
    "    estDict[N] = {\n",
    "        'tauhat':np.array(tauhats).reshape([len(tauhats),1]),\n",
    "        'sehat':np.array(sehats).reshape([len(sehats),1])\n",
    "    }"
   ]
  },
  {
   "cell_type": "code",
   "execution_count": 86,
   "id": "27ec23ed",
   "metadata": {},
   "outputs": [
    {
     "name": "stdout",
     "output_type": "stream",
     "text": [
      "N=100: bias=-0.008089619047511576, RMSE=3.06938343467151, size=0.055\n",
      "N=1000: bias=-0.033027797167848046, RMSE=0.97162858199058, size=0.0525\n"
     ]
    }
   ],
   "source": [
    "tau0 = tau*np.ones([R,1])\n",
    "for N, results in estDict.items():\n",
    "    (bias,rmse,size) = fn_bias_rmse_size(tau0,results['tauhat'],\n",
    "                                         results['sehat'])\n",
    "    print(f'N={N}: bias={bias}, RMSE={rmse}, size={size}')"
   ]
  },
  {
   "cell_type": "markdown",
   "id": "f7488ec1",
   "metadata": {},
   "source": [
    "###  1.3.2 Control for all the covariates that affect the outcome"
   ]
  },
  {
   "cell_type": "code",
   "execution_count": 87,
   "id": "0c40cb9d",
   "metadata": {},
   "outputs": [
    {
     "name": "stderr",
     "output_type": "stream",
     "text": [
      "100%|██████████| 2000/2000 [00:05<00:00, 397.38it/s]\n",
      "100%|██████████| 2000/2000 [00:36<00:00, 54.19it/s] \n"
     ]
    }
   ],
   "source": [
    "# control covariates\n",
    "estDict = {}\n",
    "R = 2000\n",
    "for N in [100,1000]:\n",
    "    tauhats = []\n",
    "    sehats = []\n",
    "    for r in tqdm(range(R)):\n",
    "        Y,T,X = fn_generate_data(tau,N,p,p0,corr,conf,flagX)\n",
    "        Xobs = X[:,:p0]\n",
    "        covars = np.concatenate([T,Xobs],axis = 1)\n",
    "        mod = sm.OLS(Y,covars)\n",
    "        res = mod.fit()\n",
    "        tauhat = res.params[0]\n",
    "        se_tauhat = res.HC1_se[0]\n",
    "        tauhats = tauhats + [tauhat]\n",
    "        sehats = sehats + [se_tauhat]\n",
    "        \n",
    "    estDict[N] = {\n",
    "        'tauhat':np.array(tauhats).reshape([len(tauhats),1]),\n",
    "        'sehat':np.array(sehats).reshape([len(sehats),1])\n",
    "    }"
   ]
  },
  {
   "cell_type": "code",
   "execution_count": 88,
   "id": "f6c5070e",
   "metadata": {},
   "outputs": [
    {
     "name": "stdout",
     "output_type": "stream",
     "text": [
      "N=100: bias=-0.000533942202854898, RMSE=0.1438934526955495, size=0.0575\n",
      "N=1000: bias=-4.774458707820928e-05, RMSE=0.045638309881947614, size=0.054\n"
     ]
    }
   ],
   "source": [
    "tau0 = tau*np.ones([R,1])\n",
    "for N, results in estDict.items():\n",
    "    (bias,rmse,size) = fn_bias_rmse_size(tau0,results['tauhat'],\n",
    "                                         results['sehat'])\n",
    "    print(f'N={N}: bias={bias}, RMSE={rmse}, size={size}')"
   ]
  },
  {
   "cell_type": "markdown",
   "id": "49b297eb",
   "metadata": {},
   "source": [
    "## 1.4 Example of a real-life situation\n",
    "In research of the influence of temperature on precipitation. Y could be precipitation, and temperature could be the teatment. Altitude, latitude & longitude and local humidity could be effecting precipitation, hence they could be covariates."
   ]
  },
  {
   "cell_type": "markdown",
   "id": "092c2310",
   "metadata": {},
   "source": [
    "# Q2\n",
    "\n",
    "## 2.1 Simulate DGP\n",
    "y = 𝜏 * 𝑇 + 0.6 * Confounder + e\n",
    "\n",
    "T = 0.6 * Confounder + u"
   ]
  },
  {
   "cell_type": "code",
   "execution_count": 92,
   "id": "a1f31383",
   "metadata": {},
   "outputs": [],
   "source": [
    "def fn_generate_data_conf(tau,N,p,corr):\n",
    "\n",
    "    nvar = p+1 \n",
    "    allX = fn_generate_multnorm(N,corr,nvar)\n",
    "    C = allX[:,1].reshape([N,1])     \n",
    "    T = fn_randomize_treatment(N) \n",
    "    err = np.random.normal(0,1,[N,1])\n",
    "    Yab = tau*T+0.6*C+err\n",
    "    Tab = 0.6*C+err\n",
    "    return (Yab,T,C)"
   ]
  },
  {
   "cell_type": "code",
   "execution_count": 93,
   "id": "70bd8324",
   "metadata": {},
   "outputs": [
    {
     "data": {
      "text/html": [
       "<div>\n",
       "<style scoped>\n",
       "    .dataframe tbody tr th:only-of-type {\n",
       "        vertical-align: middle;\n",
       "    }\n",
       "\n",
       "    .dataframe tbody tr th {\n",
       "        vertical-align: top;\n",
       "    }\n",
       "\n",
       "    .dataframe thead th {\n",
       "        text-align: right;\n",
       "    }\n",
       "</style>\n",
       "<table border=\"1\" class=\"dataframe\">\n",
       "  <thead>\n",
       "    <tr style=\"text-align: right;\">\n",
       "      <th></th>\n",
       "      <th>Y</th>\n",
       "      <th>T</th>\n",
       "      <th>C</th>\n",
       "    </tr>\n",
       "  </thead>\n",
       "  <tbody>\n",
       "    <tr>\n",
       "      <th>0</th>\n",
       "      <td>1.813946</td>\n",
       "      <td>0</td>\n",
       "      <td>-0.056112</td>\n",
       "    </tr>\n",
       "    <tr>\n",
       "      <th>1</th>\n",
       "      <td>5.375167</td>\n",
       "      <td>1</td>\n",
       "      <td>0.155110</td>\n",
       "    </tr>\n",
       "    <tr>\n",
       "      <th>2</th>\n",
       "      <td>0.153189</td>\n",
       "      <td>0</td>\n",
       "      <td>-1.262891</td>\n",
       "    </tr>\n",
       "    <tr>\n",
       "      <th>3</th>\n",
       "      <td>3.987705</td>\n",
       "      <td>1</td>\n",
       "      <td>0.131014</td>\n",
       "    </tr>\n",
       "    <tr>\n",
       "      <th>4</th>\n",
       "      <td>4.590237</td>\n",
       "      <td>1</td>\n",
       "      <td>-0.659303</td>\n",
       "    </tr>\n",
       "    <tr>\n",
       "      <th>...</th>\n",
       "      <td>...</td>\n",
       "      <td>...</td>\n",
       "      <td>...</td>\n",
       "    </tr>\n",
       "    <tr>\n",
       "      <th>995</th>\n",
       "      <td>-1.371049</td>\n",
       "      <td>0</td>\n",
       "      <td>-0.061752</td>\n",
       "    </tr>\n",
       "    <tr>\n",
       "      <th>996</th>\n",
       "      <td>4.437990</td>\n",
       "      <td>1</td>\n",
       "      <td>0.120230</td>\n",
       "    </tr>\n",
       "    <tr>\n",
       "      <th>997</th>\n",
       "      <td>-0.124254</td>\n",
       "      <td>0</td>\n",
       "      <td>-1.087312</td>\n",
       "    </tr>\n",
       "    <tr>\n",
       "      <th>998</th>\n",
       "      <td>-1.274010</td>\n",
       "      <td>0</td>\n",
       "      <td>-1.563357</td>\n",
       "    </tr>\n",
       "    <tr>\n",
       "      <th>999</th>\n",
       "      <td>-0.486190</td>\n",
       "      <td>0</td>\n",
       "      <td>-0.734960</td>\n",
       "    </tr>\n",
       "  </tbody>\n",
       "</table>\n",
       "<p>1000 rows × 3 columns</p>\n",
       "</div>"
      ],
      "text/plain": [
       "            Y  T         C\n",
       "0    1.813946  0 -0.056112\n",
       "1    5.375167  1  0.155110\n",
       "2    0.153189  0 -1.262891\n",
       "3    3.987705  1  0.131014\n",
       "4    4.590237  1 -0.659303\n",
       "..        ... ..       ...\n",
       "995 -1.371049  0 -0.061752\n",
       "996  4.437990  1  0.120230\n",
       "997 -0.124254  0 -1.087312\n",
       "998 -1.274010  0 -1.563357\n",
       "999 -0.486190  0 -0.734960\n",
       "\n",
       "[1000 rows x 3 columns]"
      ]
     },
     "execution_count": 93,
     "metadata": {},
     "output_type": "execute_result"
    }
   ],
   "source": [
    "tau = 5\n",
    "p = 10\n",
    "data2 = fn_generate_data_conf(tau,N,p,corr)\n",
    "a = pd.DataFrame(data2[0])\n",
    "b = pd.DataFrame(data2[1])\n",
    "c = pd.DataFrame(data2[2])\n",
    "\n",
    "\n",
    "data2=pd.concat([a,b,c],axis=1)\n",
    "data2.columns = ['Y','T','C']\n",
    "data2.to_csv('confounder.csv')\n",
    "data2"
   ]
  },
  {
   "cell_type": "markdown",
   "id": "a03a745a",
   "metadata": {},
   "source": [
    "## 2.2 Illustrate DGP with a DAG"
   ]
  },
  {
   "cell_type": "code",
   "execution_count": 94,
   "id": "e1d3374d",
   "metadata": {},
   "outputs": [
    {
     "data": {
      "image/png": "[encoded data removed]",
      "text/plain": [
       "<Figure size 432x288 with 1 Axes>"
      ]
     },
     "metadata": {},
     "output_type": "display_data"
    }
   ],
   "source": [
    "G = nx.DiGraph()\n",
    "    \n",
    "G.add_node('s1', desc='Y')\n",
    "G.add_node('s2', desc='T')\n",
    "G.add_node('s3', desc='C')\n",
    "G.add_edge('s2','s1')\n",
    "G.add_edge('s3','s2')\n",
    "G.add_edge('s3','s1')\n",
    "    \n",
    "pos = nx.spring_layout(G)\n",
    "nx.draw(G, pos)\n",
    "node_labels = nx.get_node_attributes(G, 'desc')\n",
    "nx.draw_networkx_labels(G, pos, labels=node_labels)\n",
    "plt.show()"
   ]
  },
  {
   "cell_type": "markdown",
   "id": "88c1f1bf",
   "metadata": {},
   "source": [
    "## 2.3 Monte Carlo experiment\n",
    "\n",
    "### 2.3.1 Do not control for the confounder"
   ]
  },
  {
   "cell_type": "code",
   "execution_count": 95,
   "id": "b705f685",
   "metadata": {},
   "outputs": [
    {
     "name": "stderr",
     "output_type": "stream",
     "text": [
      "100%|██████████| 2000/2000 [00:02<00:00, 857.13it/s]\n",
      "100%|██████████| 2000/2000 [00:21<00:00, 94.21it/s] \n"
     ]
    }
   ],
   "source": [
    "estDict = {}\n",
    "R = 2000\n",
    "for N in [100,1000]:\n",
    "    tauhats = []\n",
    "    sehats = []\n",
    "    for r in tqdm(range(R)):\n",
    "        Y,T,C = fn_generate_data_conf(tau,N,p,corr)\n",
    "        covars = np.concatenate([T],axis = 1)\n",
    "        mod = sm.OLS(Y,covars)\n",
    "        res = mod.fit()\n",
    "        tauhat = res.params[0]\n",
    "        se_tauhat = res.HC1_se[0]\n",
    "        tauhats = tauhats + [tauhat]\n",
    "        sehats = sehats + [se_tauhat]\n",
    "    estDict[N] = {\n",
    "        'tauhat':np.array(tauhats).reshape([len(tauhats),1]),\n",
    "        'sehat':np.array(sehats).reshape([len(sehats),1])\n",
    "    }"
   ]
  },
  {
   "cell_type": "code",
   "execution_count": 96,
   "id": "22e369c4",
   "metadata": {},
   "outputs": [
    {
     "name": "stdout",
     "output_type": "stream",
     "text": [
      "N=100: bias=0.00243888848282581, RMSE=0.16156815837490932, size=0.058\n",
      "N=1000: bias=-0.0008057760388566386, RMSE=0.05202525720774329, size=0.0505\n"
     ]
    }
   ],
   "source": [
    "tau0 = tau*np.ones([R,1])\n",
    "for N, results in estDict.items():\n",
    "    (bias,rmse,size) = fn_bias_rmse_size(tau0,results['tauhat'],\n",
    "                                         results['sehat'])\n",
    "    print(f'N={N}: bias={bias}, RMSE={rmse}, size={size}')"
   ]
  },
  {
   "cell_type": "markdown",
   "id": "c95e0c89",
   "metadata": {},
   "source": [
    "### 2.3.2 Control for the confounder"
   ]
  },
  {
   "cell_type": "code",
   "execution_count": 97,
   "id": "6c723b1b",
   "metadata": {},
   "outputs": [
    {
     "name": "stderr",
     "output_type": "stream",
     "text": [
      "100%|██████████| 2000/2000 [00:02<00:00, 792.76it/s]\n",
      "100%|██████████| 2000/2000 [00:17<00:00, 112.08it/s]\n"
     ]
    }
   ],
   "source": [
    "estDict = {}\n",
    "R = 2000\n",
    "for N in [100,1000]:\n",
    "    tauhats = []\n",
    "    sehats = []\n",
    "    for r in tqdm(range(R)):\n",
    "        Y,T,C = fn_generate_data_conf(tau,N,p,corr)\n",
    "        covars = np.concatenate([T,C],axis = 1)\n",
    "        mod = sm.OLS(Y,covars)\n",
    "        res = mod.fit()\n",
    "        tauhat = res.params[0]\n",
    "        se_tauhat = res.HC1_se[0]\n",
    "        tauhats = tauhats + [tauhat]\n",
    "        sehats = sehats + [se_tauhat]\n",
    "        \n",
    "    estDict[N] = {\n",
    "        'tauhat':np.array(tauhats).reshape([len(tauhats),1]),\n",
    "        'sehat':np.array(sehats).reshape([len(sehats),1])\n",
    "    }"
   ]
  },
  {
   "cell_type": "code",
   "execution_count": 98,
   "id": "8aaeb902",
   "metadata": {},
   "outputs": [
    {
     "name": "stdout",
     "output_type": "stream",
     "text": [
      "N=100: bias=0.0019401803231161683, RMSE=0.13845445417864907, size=0.053\n",
      "N=1000: bias=0.0004912092055761251, RMSE=0.046103844656540105, size=0.061\n"
     ]
    }
   ],
   "source": [
    "tau0 = tau*np.ones([R,1])\n",
    "for N, results in estDict.items():\n",
    "    (bias,rmse,size) = fn_bias_rmse_size(tau0,results['tauhat'],\n",
    "                                         results['sehat'])\n",
    "    print(f'N={N}: bias={bias}, RMSE={rmse}, size={size}')"
   ]
  },
  {
   "cell_type": "markdown",
   "id": "73d5458a",
   "metadata": {},
   "source": [
    "### 2.4 Example of a real-life situation\n",
    "\n",
    "If we want to study the effect of whether or not use certain medication will impact the survival rate, we could add one confouder: the severeness of the patient's condition. Because how severe the patient are can affect how to use the medicine, as well as the survival rate of the patient."
   ]
  },
  {
   "cell_type": "markdown",
   "id": "884fb0cb",
   "metadata": {},
   "source": [
    "# Q3\n",
    "\n",
    "## 3.1 Simulate DGP\n",
    "\n",
    "S = 0.8 * Y + 0.8 * T + u\n",
    "\n",
    "Y = τ* T + e"
   ]
  },
  {
   "cell_type": "code",
   "execution_count": 100,
   "id": "9b64720e",
   "metadata": {},
   "outputs": [],
   "source": [
    "def fn_generate_data_s(tau,N,p,corr):\n",
    "\n",
    "    nvar = p+1 # 1 for selection bias\n",
    "    corr = 0.8 # correlation for multivariate normal\n",
    " \n",
    "    allX = fn_generate_multnorm(N,corr,nvar)\n",
    "    T = fn_randomize_treatment(N) # choose treated units\n",
    "    err = np.random.normal(0,1,[N,1])\n",
    "    U = np.random.normal(0,1,[N,1])\n",
    "    Y = tau*T+err\n",
    "    S = 0.8*T+0.8*Y+U\n",
    "\n",
    "    return (Y,T,S)"
   ]
  },
  {
   "cell_type": "code",
   "execution_count": 101,
   "id": "84f0c01d",
   "metadata": {},
   "outputs": [
    {
     "data": {
      "text/html": [
       "<div>\n",
       "<style scoped>\n",
       "    .dataframe tbody tr th:only-of-type {\n",
       "        vertical-align: middle;\n",
       "    }\n",
       "\n",
       "    .dataframe tbody tr th {\n",
       "        vertical-align: top;\n",
       "    }\n",
       "\n",
       "    .dataframe thead th {\n",
       "        text-align: right;\n",
       "    }\n",
       "</style>\n",
       "<table border=\"1\" class=\"dataframe\">\n",
       "  <thead>\n",
       "    <tr style=\"text-align: right;\">\n",
       "      <th></th>\n",
       "      <th>Y</th>\n",
       "      <th>T</th>\n",
       "      <th>S</th>\n",
       "    </tr>\n",
       "  </thead>\n",
       "  <tbody>\n",
       "    <tr>\n",
       "      <th>0</th>\n",
       "      <td>6.834793</td>\n",
       "      <td>1.0</td>\n",
       "      <td>6.782095</td>\n",
       "    </tr>\n",
       "    <tr>\n",
       "      <th>1</th>\n",
       "      <td>0.168088</td>\n",
       "      <td>0.0</td>\n",
       "      <td>0.987921</td>\n",
       "    </tr>\n",
       "    <tr>\n",
       "      <th>2</th>\n",
       "      <td>-0.049941</td>\n",
       "      <td>0.0</td>\n",
       "      <td>-0.114043</td>\n",
       "    </tr>\n",
       "    <tr>\n",
       "      <th>3</th>\n",
       "      <td>0.888429</td>\n",
       "      <td>0.0</td>\n",
       "      <td>-0.158183</td>\n",
       "    </tr>\n",
       "    <tr>\n",
       "      <th>4</th>\n",
       "      <td>-1.472146</td>\n",
       "      <td>0.0</td>\n",
       "      <td>-0.938816</td>\n",
       "    </tr>\n",
       "    <tr>\n",
       "      <th>...</th>\n",
       "      <td>...</td>\n",
       "      <td>...</td>\n",
       "      <td>...</td>\n",
       "    </tr>\n",
       "    <tr>\n",
       "      <th>995</th>\n",
       "      <td>8.154340</td>\n",
       "      <td>1.0</td>\n",
       "      <td>6.172356</td>\n",
       "    </tr>\n",
       "    <tr>\n",
       "      <th>996</th>\n",
       "      <td>8.103580</td>\n",
       "      <td>1.0</td>\n",
       "      <td>4.977140</td>\n",
       "    </tr>\n",
       "    <tr>\n",
       "      <th>997</th>\n",
       "      <td>7.786704</td>\n",
       "      <td>1.0</td>\n",
       "      <td>6.824767</td>\n",
       "    </tr>\n",
       "    <tr>\n",
       "      <th>998</th>\n",
       "      <td>-0.748617</td>\n",
       "      <td>0.0</td>\n",
       "      <td>-0.072838</td>\n",
       "    </tr>\n",
       "    <tr>\n",
       "      <th>999</th>\n",
       "      <td>0.693856</td>\n",
       "      <td>0.0</td>\n",
       "      <td>0.504496</td>\n",
       "    </tr>\n",
       "  </tbody>\n",
       "</table>\n",
       "<p>1000 rows × 3 columns</p>\n",
       "</div>"
      ],
      "text/plain": [
       "            Y    T         S\n",
       "0    6.834793  1.0  6.782095\n",
       "1    0.168088  0.0  0.987921\n",
       "2   -0.049941  0.0 -0.114043\n",
       "3    0.888429  0.0 -0.158183\n",
       "4   -1.472146  0.0 -0.938816\n",
       "..        ...  ...       ...\n",
       "995  8.154340  1.0  6.172356\n",
       "996  8.103580  1.0  4.977140\n",
       "997  7.786704  1.0  6.824767\n",
       "998 -0.748617  0.0 -0.072838\n",
       "999  0.693856  0.0  0.504496\n",
       "\n",
       "[1000 rows x 3 columns]"
      ]
     },
     "execution_count": 101,
     "metadata": {},
     "output_type": "execute_result"
    }
   ],
   "source": [
    "tau = 8\n",
    "corr = 0.8\n",
    "p = 3\n",
    "N = 1000\n",
    "Y,T,S = fn_generate_data_s(tau,N,p,corr)\n",
    "\n",
    "data = np.concatenate([Y,T,S],axis = 1)\n",
    "data = pd.DataFrame(data)\n",
    "data.columns = ['Y', 'T', 'S']\n",
    "data.to_csv('data3.csv')\n",
    "data"
   ]
  },
  {
   "cell_type": "markdown",
   "id": "6a3c97ec",
   "metadata": {},
   "source": [
    "## 3.2 Illustrate DGP with a DAG"
   ]
  },
  {
   "cell_type": "code",
   "execution_count": 102,
   "id": "de5a33c0",
   "metadata": {},
   "outputs": [
    {
     "data": {
      "image/png": "[encoded data removed]",
      "text/plain": [
       "<Figure size 432x288 with 1 Axes>"
      ]
     },
     "metadata": {},
     "output_type": "display_data"
    }
   ],
   "source": [
    "G = nx.DiGraph()\n",
    "    \n",
    "G.add_node('s1', desc='Y')\n",
    "G.add_node('s2', desc='T')\n",
    "G.add_node('s3', desc='S')\n",
    "G.add_edge('s2','s1')\n",
    "G.add_edge('s1','s3')\n",
    "G.add_edge('s2','s3')\n",
    "    \n",
    "pos = nx.spring_layout(G)\n",
    "nx.draw(G, pos)\n",
    "node_labels = nx.get_node_attributes(G, 'desc')\n",
    "nx.draw_networkx_labels(G, pos, labels=node_labels)\n",
    "plt.show()"
   ]
  },
  {
   "cell_type": "markdown",
   "id": "32c231d1",
   "metadata": {},
   "source": [
    "## 3.3 Monte Carlo experiment\n",
    "\n",
    "### 3.3.1 Do not control for the variable in between the path from cause to effect"
   ]
  },
  {
   "cell_type": "code",
   "execution_count": 109,
   "id": "9b8c72c6",
   "metadata": {},
   "outputs": [
    {
     "name": "stderr",
     "output_type": "stream",
     "text": [
      "100%|██████████| 2000/2000 [00:00<00:00, 2238.95it/s]\n",
      "100%|██████████| 2000/2000 [00:11<00:00, 181.31it/s]\n"
     ]
    }
   ],
   "source": [
    "estDict = {}\n",
    "R = 2000\n",
    "for N in [100,1000]:\n",
    "    tauhats = []\n",
    "    sehats = []\n",
    "    for r in tqdm(range(R)):\n",
    "        Yexp,T,Z = fn_generate_data_s(tau,N,p,corr)   \n",
    "        Yt = Yexp[np.where(T==1)[0],:]\n",
    "        Yc = Yexp[np.where(T==0)[0],:]\n",
    "        tauhat,se_tauhat = fn_tauhat_means(Yt,Yc)\n",
    "        tauhats = tauhats + [tauhat]\n",
    "        sehats = sehats + [se_tauhat]\n",
    "        \n",
    "    estDict[N] = {\n",
    "        'tauhat':np.array(tauhats).reshape([len(tauhats),1]),\n",
    "        'sehat':np.array(sehats).reshape([len(sehats),1])\n",
    "    }"
   ]
  },
  {
   "cell_type": "code",
   "execution_count": 110,
   "id": "6b8f8b0f",
   "metadata": {},
   "outputs": [
    {
     "name": "stdout",
     "output_type": "stream",
     "text": [
      "N=100: bias=-0.0033540382612435556, RMSE=0.20038073974956047, size=0.0535\n",
      "N=1000: bias=0.00040967264685172955, RMSE=0.06591152736701925, size=0.0575\n"
     ]
    }
   ],
   "source": [
    "tau0 = tau*np.ones([R,1])\n",
    "for N, results in estDict.items():\n",
    "    (bias,rmse,size) = fn_bias_rmse_size(tau0,results['tauhat'],\n",
    "                                         results['sehat'])\n",
    "    print(f'N={N}: bias={bias}, RMSE={rmse}, size={size}')"
   ]
  },
  {
   "cell_type": "markdown",
   "id": "8abb8ece",
   "metadata": {},
   "source": [
    "### 3.3.2 Control for the variable in between the path from cause to effect"
   ]
  },
  {
   "cell_type": "code",
   "execution_count": 111,
   "id": "9c87988f",
   "metadata": {},
   "outputs": [
    {
     "name": "stderr",
     "output_type": "stream",
     "text": [
      "100%|██████████| 2000/2000 [00:02<00:00, 982.53it/s] \n",
      "100%|██████████| 2000/2000 [00:16<00:00, 119.99it/s]\n"
     ]
    }
   ],
   "source": [
    "estDict = {}\n",
    "R = 2000\n",
    "for N in [100,1000]:\n",
    "    tauhats = []\n",
    "    sehats = []\n",
    "    for r in tqdm(range(R)):\n",
    "        Yexp,T,Z = fn_generate_data_s(tau,N,p,corr)\n",
    "        covars = np.concatenate([T,Z],axis = 1)\n",
    "        mod = sm.OLS(Yexp,covars)\n",
    "        res = mod.fit()\n",
    "        tauhat = res.params[0]\n",
    "        se_tauhat = res.HC1_se[0]\n",
    "        tauhats = tauhats + [tauhat]\n",
    "        sehats = sehats + [se_tauhat]\n",
    "        \n",
    "    estDict[N] = {\n",
    "        'tauhat':np.array(tauhats).reshape([len(tauhats),1]),\n",
    "        'sehat':np.array(sehats).reshape([len(sehats),1])\n",
    "    }"
   ]
  },
  {
   "cell_type": "code",
   "execution_count": 112,
   "id": "26c0b00d",
   "metadata": {},
   "outputs": [
    {
     "name": "stdout",
     "output_type": "stream",
     "text": [
      "N=100: bias=-3.5177851672351697, RMSE=3.5481555281621966, size=1.0\n",
      "N=1000: bias=-3.508284217130617, RMSE=3.5112086313354474, size=1.0\n"
     ]
    }
   ],
   "source": [
    "tau0 = tau*np.ones([R,1])\n",
    "for N, results in estDict.items():\n",
    "    (bias,rmse,size) = fn_bias_rmse_size(tau0,results['tauhat'],\n",
    "                                         results['sehat'])\n",
    "    print(f'N={N}: bias={bias}, RMSE={rmse}, size={size}')"
   ]
  },
  {
   "cell_type": "markdown",
   "id": "2e4f4b4f",
   "metadata": {},
   "source": [
    "## 3.4 Example of a real-life situation\n",
    "\n",
    "Assume that I want to investigate whether people with bright personality have stronger willingness to knowledge sharing. And for this purpose I design a questionaire for people to fill out. However, this situation involves three variables: personality, willingness to share knowledge and whether to fill out the questionaire. Personality will affect whether he/she will fill out and willingness to share also affect whether or not to fill out. So personality -> whether fill out the questionaire<- willingness."
   ]
  }
 ],
 "metadata": {
  "kernelspec": {
   "display_name": "Python 3 (ipykernel)",
   "language": "python",
   "name": "python3"
  },
  "language_info": {
   "codemirror_mode": {
    "name": "ipython",
    "version": 3
   },
   "file_extension": ".py",
   "mimetype": "text/x-python",
   "name": "python",
   "nbconvert_exporter": "python",
   "pygments_lexer": "ipython3",
   "version": "3.9.7"
  }
 },
 "nbformat": 4,
 "nbformat_minor": 5
}
